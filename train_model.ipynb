{
 "cells": [
  {
   "cell_type": "code",
   "execution_count": 2,
   "id": "5abbd00f-32e6-4e07-85b8-7041e6deec8a",
   "metadata": {},
   "outputs": [
    {
     "name": "stdout",
     "output_type": "stream",
     "text": [
      "Target Value Distribution:\n",
      "Quality of Sleep\n",
      "4.0     262\n",
      "5.0    1082\n",
      "6.0    2573\n",
      "7.0    3233\n",
      "8.0    2035\n",
      "9.0     814\n",
      "Name: count, dtype: int64\n"
     ]
    },
    {
     "data": {
      "image/png": "[encoded data removed]",
      "text/plain": [
       "<Figure size 1000x500 with 1 Axes>"
      ]
     },
     "metadata": {},
     "output_type": "display_data"
    },
    {
     "name": "stdout",
     "output_type": "stream",
     "text": [
      "MAE: 0.98\n",
      "R2 Score: -0.03\n",
      "\n",
      "Feature Importances:\n",
      "          Feature  Importance\n",
      "5     Daily Steps    0.391575\n",
      "0             Age    0.186512\n",
      "4      Heart Rate    0.151116\n",
      "2     Systolic BP    0.105888\n",
      "3    Diastolic BP    0.097369\n",
      "1  Sleep Duration    0.067539\n"
     ]
    }
   ],
   "source": [
    "import pandas as pd\n",
    "import numpy as np\n",
    "from sklearn.ensemble import RandomForestRegressor\n",
    "from sklearn.model_selection import train_test_split\n",
    "import joblib\n",
    "import matplotlib.pyplot as plt\n",
    "\n",
    "# Load and prepare data\n",
    "df = pd.read_csv(\"modified_sleep_dataset.csv\")\n",
    "\n",
    "# 1. Check target distribution\n",
    "print(\"Target Value Distribution:\")\n",
    "print(df['Quality of Sleep'].value_counts().sort_index())\n",
    "plt.figure(figsize=(10,5))\n",
    "df['Quality of Sleep'].hist(bins=20)\n",
    "plt.title('Quality of Sleep Distribution')\n",
    "plt.show()\n",
    "\n",
    "# 2. Feature selection\n",
    "features = [\n",
    "    \"Age\", \n",
    "    \"Sleep Duration\", \n",
    "    \"Systolic BP\", \n",
    "    \"Diastolic BP\", \n",
    "    \"Heart Rate\", \n",
    "    \"Daily Steps\"  \n",
    "]\n",
    "target = 'Quality of Sleep'\n",
    "\n",
    "# 3. Clean data\n",
    "df = df.dropna(subset=features+[target])\n",
    "df = df.drop_duplicates()\n",
    "\n",
    "X = df[features]\n",
    "y = df[target]\n",
    "\n",
    "# 4. Train-test split\n",
    "X_train, X_test, y_train, y_test = train_test_split(X, y, test_size=0.2, random_state=42)\n",
    "\n",
    "# 5. Train model with optimized parameters\n",
    "model = RandomForestRegressor(\n",
    "    n_estimators=200,\n",
    "    max_depth=12,\n",
    "    min_samples_split=5,\n",
    "    min_samples_leaf=2,\n",
    "    random_state=42\n",
    ")\n",
    "model.fit(X_train, y_train)\n",
    "\n",
    "# 6. Evaluate\n",
    "from sklearn.metrics import mean_absolute_error, r2_score\n",
    "y_pred = model.predict(X_test)\n",
    "print(f\"MAE: {mean_absolute_error(y_test, y_pred):.2f}\")\n",
    "print(f\"R2 Score: {r2_score(y_test, y_pred):.2f}\")\n",
    "\n",
    "# 7. Check feature importance\n",
    "importances = pd.DataFrame({\n",
    "    'Feature': features,\n",
    "    'Importance': model.feature_importances_\n",
    "}).sort_values('Importance', ascending=False)\n",
    "print(\"\\nFeature Importances:\")\n",
    "print(importances)\n"
   ]
  },
  {
   "cell_type": "code",
   "execution_count": 3,
   "id": "4a72f5d0-6fe3-45ce-a15a-b7f42d3432fa",
   "metadata": {},
   "outputs": [
    {
     "data": {
      "text/plain": [
       "['model.pkl']"
      ]
     },
     "execution_count": 3,
     "metadata": {},
     "output_type": "execute_result"
    }
   ],
   "source": [
    "import joblib\n",
    "\n",
    "\n",
    "joblib.dump(model, 'model.pkl')\n"
   ]
  },
  {
   "cell_type": "code",
   "execution_count": 4,
   "id": "f4a3a4da",
   "metadata": {},
   "outputs": [],
   "source": [
    "import pickle\n",
    "\n",
    "# List of features IN THE EXACT ORDER used for training\n",
    "features = [\n",
    "    \"Age\", \n",
    "    \"Sleep Duration\", \n",
    "    \"Systolic BP\", \n",
    "    \"Diastolic BP\", \n",
    "    \"Heart Rate\", \n",
    "    \"Daily Steps\"         \n",
    "]\n",
    "\n",
    "# Save the feature list\n",
    "with open('model_features.pkl', 'wb') as f:\n",
    "    pickle.dump(features, f)"
   ]
  },
  {
   "cell_type": "code",
   "execution_count": 17,
   "id": "3af2c62b",
   "metadata": {},
   "outputs": [
    {
     "name": "stdout",
     "output_type": "stream",
     "text": [
      "Collecting scikit-learn\n",
      "  Downloading scikit_learn-1.6.1-cp311-cp311-win_amd64.whl (11.1 MB)\n",
      "     ---------------------------------------- 11.1/11.1 MB 2.0 MB/s eta 0:00:00\n",
      "Requirement already satisfied: numpy>=1.19.5 in c:\\users\\kotha\\appdata\\local\\programs\\python\\python311\\lib\\site-packages (from scikit-learn) (2.2.4)\n",
      "Requirement already satisfied: scipy>=1.6.0 in c:\\users\\kotha\\appdata\\local\\programs\\python\\python311\\lib\\site-packages (from scikit-learn) (1.15.2)\n",
      "Collecting joblib>=1.2.0\n",
      "  Using cached joblib-1.4.2-py3-none-any.whl (301 kB)\n",
      "Collecting threadpoolctl>=3.1.0\n",
      "  Using cached threadpoolctl-3.6.0-py3-none-any.whl (18 kB)\n",
      "Installing collected packages: threadpoolctl, joblib, scikit-learn\n",
      "Successfully installed joblib-1.4.2 scikit-learn-1.6.1 threadpoolctl-3.6.0\n",
      "Note: you may need to restart the kernel to use updated packages.\n"
     ]
    },
    {
     "name": "stderr",
     "output_type": "stream",
     "text": [
      "\n",
      "[notice] A new release of pip available: 22.3 -> 25.0.1\n",
      "[notice] To update, run: python.exe -m pip install --upgrade pip\n"
     ]
    }
   ],
   "source": [
    "pip install scikit-learn\n"
   ]
  },
  {
   "cell_type": "code",
   "execution_count": null,
   "id": "8cff5865",
   "metadata": {},
   "outputs": [],
   "source": []
  }
 ],
 "metadata": {
  "kernelspec": {
   "display_name": "Python 3",
   "language": "python",
   "name": "python3"
  },
  "language_info": {
   "codemirror_mode": {
    "name": "ipython",
    "version": 3
   },
   "file_extension": ".py",
   "mimetype": "text/x-python",
   "name": "python",
   "nbconvert_exporter": "python",
   "pygments_lexer": "ipython3",
   "version": "3.11.9"
  }
 },
 "nbformat": 4,
 "nbformat_minor": 5
}
